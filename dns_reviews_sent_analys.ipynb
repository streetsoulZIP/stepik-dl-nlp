{
  "cells": [
    {
      "cell_type": "markdown",
      "metadata": {
        "id": "view-in-github",
        "colab_type": "text"
      },
      "source": [
        "<a href=\"https://colab.research.google.com/github/streetsoulZIP/stepik-dl-nlp/blob/master/dns_reviews_sent_analys.ipynb\" target=\"_parent\"><img src=\"https://colab.research.google.com/assets/colab-badge.svg\" alt=\"Open In Colab\"/></a>"
      ]
    },
    {
      "cell_type": "markdown",
      "source": [
        "- доделать нейросеть для мультит-классификации, сделай оглавление, п"
      ],
      "metadata": {
        "id": "NE8ePb4zfDb7"
      }
    },
    {
      "cell_type": "markdown",
      "source": [
        "# **Get data**"
      ],
      "metadata": {
        "id": "rvy4berX3tfd"
      }
    },
    {
      "cell_type": "code",
      "execution_count": null,
      "metadata": {
        "id": "CKW2UTWVfhjr"
      },
      "outputs": [],
      "source": [
        "data = open('data.txt', encoding='utf-8').readlines()"
      ]
    },
    {
      "cell_type": "code",
      "execution_count": null,
      "metadata": {
        "id": "Q-gWNu3UDYie"
      },
      "outputs": [],
      "source": [
        "data_dict = {'url': [], 'name': [], 'price': [], 'rating': [], 'title': [], 'desc': []}\n",
        "columns_name = list(data_dict.keys())\n",
        "\n",
        "\n",
        "for line in data:\n",
        "    line = line.split(' _SEP_ ')\n",
        "    for ind in range(len(line)):\n",
        "        data_dict[columns_name[ind]].append(line[ind])"
      ]
    },
    {
      "cell_type": "markdown",
      "source": [
        "# *Imports*"
      ],
      "metadata": {
        "id": "c7Ub_rfh3wZX"
      }
    },
    {
      "cell_type": "code",
      "execution_count": null,
      "metadata": {
        "id": "AxyAaizeK-Dc"
      },
      "outputs": [],
      "source": [
        "import pandas as pd\n",
        "import numpy as np\n",
        "import seaborn as sns\n",
        "import matplotlib.pyplot as plt\n",
        "import matplotlib.patches as patches\n",
        "from matplotlib.category import UnitData\n",
        "%matplotlib inline\n",
        "\n",
        "import re, string, nltk\n",
        "from nltk.corpus import stopwords\n",
        "from nltk.stem.wordnet import WordNetLemmatizer\n",
        "from nltk import word_tokenize\n",
        "\n",
        "from sklearn.metrics import f1_score, roc_auc_score, accuracy_score, confusion_matrix, classification_report\n",
        "from sklearn.model_selection import train_test_split\n",
        "from sklearn.linear_model import LogisticRegression\n",
        "import tensorflow as tf\n",
        "from tensorflow.keras import models,layers,optimizers\n",
        "from tensorflow.keras.preprocessing.text import Tokenizer, text_to_word_sequence\n",
        "from tensorflow.keras.preprocessing.sequence import pad_sequences\n",
        "from keras.layers import Conv1D, GlobalMaxPooling1D\n",
        "from keras.layers import Dense, Activation, Dropout, BatchNormalization, Embedding, LSTM, Bidirectional\n",
        "from tensorflow import keras\n",
        "from keras.models import Sequential\n",
        "\n",
        "import warnings\n",
        "\n",
        "\n",
        "pd.options.display.max_colwidth = 115"
      ]
    },
    {
      "cell_type": "markdown",
      "source": [
        "# Data preparation"
      ],
      "metadata": {
        "id": "u29qAxL-3zzr"
      }
    },
    {
      "cell_type": "code",
      "execution_count": null,
      "metadata": {
        "id": "NkBJqfkpFH-R"
      },
      "outputs": [],
      "source": [
        "raw_df = pd.DataFrame(data_dict)\n",
        "df = pd.DataFrame(raw_df.iloc[[0]])"
      ]
    },
    {
      "cell_type": "code",
      "execution_count": null,
      "metadata": {
        "id": "2hdDLqfSFTh6"
      },
      "outputs": [],
      "source": [
        "for i in range(1, raw_df.shape[0]):\n",
        "    prev_row_desc = raw_df.iloc[i-1, 5]\n",
        "    cur_row = pd.DataFrame(raw_df.iloc[[i]])\n",
        "    cur_row_desc = cur_row.iloc[0, 5]\n",
        "    if cur_row_desc!=prev_row_desc:\n",
        "        df = pd.concat([df, cur_row], ignore_index=False)"
      ]
    },
    {
      "cell_type": "code",
      "execution_count": null,
      "metadata": {
        "colab": {
          "base_uri": "https://localhost:8080/"
        },
        "id": "jzcq8cDEHyak",
        "outputId": "0d568ed3-17a5-4c23-df2a-f34a15909258"
      },
      "outputs": [
        {
          "output_type": "execute_result",
          "data": {
            "text/plain": [
              "(20141, 6)"
            ]
          },
          "metadata": {},
          "execution_count": 8
        }
      ],
      "source": [
        "df.shape"
      ]
    },
    {
      "cell_type": "code",
      "execution_count": null,
      "metadata": {
        "colab": {
          "base_uri": "https://localhost:8080/",
          "height": 380
        },
        "id": "QcoO0ofPH1iS",
        "outputId": "dbd04c83-9449-4d50-9e85-952f3e03fccb"
      },
      "outputs": [
        {
          "output_type": "execute_result",
          "data": {
            "text/plain": [
              "                                                                                                url  \\\n",
              "0   https://www.dns-shop.ru/product/512eb86b9c5ded20/provodnye-nausniki-exployd-ex-hp-1370-krasnyj/   \n",
              "1   https://www.dns-shop.ru/product/512eb86b9c5ded20/provodnye-nausniki-exployd-ex-hp-1370-krasnyj/   \n",
              "10   https://www.dns-shop.ru/product/95e458249c5ded20/provodnye-nausniki-exployd-ex-hp-1371-zeltyj/   \n",
              "11   https://www.dns-shop.ru/product/95e458249c5ded20/provodnye-nausniki-exployd-ex-hp-1371-zeltyj/   \n",
              "15    https://www.dns-shop.ru/product/ef317dce9c5ced20/provodnye-nausniki-exployd-ex-hp-1369-sinij/   \n",
              "\n",
              "                                             name price rating  \\\n",
              "0   Проводные наушники Exployd EX-HP-1370 красный    99      5   \n",
              "1   Проводные наушники Exployd EX-HP-1370 красный    99      1   \n",
              "10   Проводные наушники Exployd EX-HP-1371 желтый    99      2   \n",
              "11   Проводные наушники Exployd EX-HP-1371 желтый    99      5   \n",
              "15    Проводные наушники Exployd EX-HP-1369 синий    99      5   \n",
              "\n",
              "                                           title  \\\n",
              "0   ['Достоинства', 'Недостатки', 'Комментарий']   \n",
              "1   ['Достоинства', 'Недостатки', 'Комментарий']   \n",
              "10  ['Достоинства', 'Недостатки', 'Комментарий']   \n",
              "11  ['Достоинства', 'Недостатки', 'Комментарий']   \n",
              "15  ['Достоинства', 'Недостатки', 'Комментарий']   \n",
              "\n",
              "                                                                                                                  desc  \n",
              "0                                                   ['- Наушники работают', '- Не выяленно', 'К покупке рекомендую']\\n  \n",
              "1   ['Цена', 'Качество ниже плинтуса', 'Пропал звук в одном наушнике, не проработав и недели. Проезд до сервисного ...  \n",
              "10  ['Яркие', 'Дешёвые и некачественные', 'Сломались через пару дней использования. Собственно не удивлена, за таку...  \n",
              "11  ['Желтые. Для меня это очень важно. Есть шумоподавление. Плотно прилегают к ушам.', 'Не нашла', 'Мне очень понр...  \n",
              "15                                                   ['Бомбезные', 'Нету', 'Топ чо за 100 рублей имба, не жалуемся']\\n  "
            ],
            "text/html": [
              "\n",
              "  <div id=\"df-b69d5cbe-18c4-4184-9442-42d8e6414b20\" class=\"colab-df-container\">\n",
              "    <div>\n",
              "<style scoped>\n",
              "    .dataframe tbody tr th:only-of-type {\n",
              "        vertical-align: middle;\n",
              "    }\n",
              "\n",
              "    .dataframe tbody tr th {\n",
              "        vertical-align: top;\n",
              "    }\n",
              "\n",
              "    .dataframe thead th {\n",
              "        text-align: right;\n",
              "    }\n",
              "</style>\n",
              "<table border=\"1\" class=\"dataframe\">\n",
              "  <thead>\n",
              "    <tr style=\"text-align: right;\">\n",
              "      <th></th>\n",
              "      <th>url</th>\n",
              "      <th>name</th>\n",
              "      <th>price</th>\n",
              "      <th>rating</th>\n",
              "      <th>title</th>\n",
              "      <th>desc</th>\n",
              "    </tr>\n",
              "  </thead>\n",
              "  <tbody>\n",
              "    <tr>\n",
              "      <th>0</th>\n",
              "      <td>https://www.dns-shop.ru/product/512eb86b9c5ded20/provodnye-nausniki-exployd-ex-hp-1370-krasnyj/</td>\n",
              "      <td>Проводные наушники Exployd EX-HP-1370 красный</td>\n",
              "      <td>99</td>\n",
              "      <td>5</td>\n",
              "      <td>['Достоинства', 'Недостатки', 'Комментарий']</td>\n",
              "      <td>['- Наушники работают', '- Не выяленно', 'К покупке рекомендую']\\n</td>\n",
              "    </tr>\n",
              "    <tr>\n",
              "      <th>1</th>\n",
              "      <td>https://www.dns-shop.ru/product/512eb86b9c5ded20/provodnye-nausniki-exployd-ex-hp-1370-krasnyj/</td>\n",
              "      <td>Проводные наушники Exployd EX-HP-1370 красный</td>\n",
              "      <td>99</td>\n",
              "      <td>1</td>\n",
              "      <td>['Достоинства', 'Недостатки', 'Комментарий']</td>\n",
              "      <td>['Цена', 'Качество ниже плинтуса', 'Пропал звук в одном наушнике, не проработав и недели. Проезд до сервисного ...</td>\n",
              "    </tr>\n",
              "    <tr>\n",
              "      <th>10</th>\n",
              "      <td>https://www.dns-shop.ru/product/95e458249c5ded20/provodnye-nausniki-exployd-ex-hp-1371-zeltyj/</td>\n",
              "      <td>Проводные наушники Exployd EX-HP-1371 желтый</td>\n",
              "      <td>99</td>\n",
              "      <td>2</td>\n",
              "      <td>['Достоинства', 'Недостатки', 'Комментарий']</td>\n",
              "      <td>['Яркие', 'Дешёвые и некачественные', 'Сломались через пару дней использования. Собственно не удивлена, за таку...</td>\n",
              "    </tr>\n",
              "    <tr>\n",
              "      <th>11</th>\n",
              "      <td>https://www.dns-shop.ru/product/95e458249c5ded20/provodnye-nausniki-exployd-ex-hp-1371-zeltyj/</td>\n",
              "      <td>Проводные наушники Exployd EX-HP-1371 желтый</td>\n",
              "      <td>99</td>\n",
              "      <td>5</td>\n",
              "      <td>['Достоинства', 'Недостатки', 'Комментарий']</td>\n",
              "      <td>['Желтые. Для меня это очень важно. Есть шумоподавление. Плотно прилегают к ушам.', 'Не нашла', 'Мне очень понр...</td>\n",
              "    </tr>\n",
              "    <tr>\n",
              "      <th>15</th>\n",
              "      <td>https://www.dns-shop.ru/product/ef317dce9c5ced20/provodnye-nausniki-exployd-ex-hp-1369-sinij/</td>\n",
              "      <td>Проводные наушники Exployd EX-HP-1369 синий</td>\n",
              "      <td>99</td>\n",
              "      <td>5</td>\n",
              "      <td>['Достоинства', 'Недостатки', 'Комментарий']</td>\n",
              "      <td>['Бомбезные', 'Нету', 'Топ чо за 100 рублей имба, не жалуемся']\\n</td>\n",
              "    </tr>\n",
              "  </tbody>\n",
              "</table>\n",
              "</div>\n",
              "    <div class=\"colab-df-buttons\">\n",
              "\n",
              "  <div class=\"colab-df-container\">\n",
              "    <button class=\"colab-df-convert\" onclick=\"convertToInteractive('df-b69d5cbe-18c4-4184-9442-42d8e6414b20')\"\n",
              "            title=\"Convert this dataframe to an interactive table.\"\n",
              "            style=\"display:none;\">\n",
              "\n",
              "  <svg xmlns=\"http://www.w3.org/2000/svg\" height=\"24px\" viewBox=\"0 -960 960 960\">\n",
              "    <path d=\"M120-120v-720h720v720H120Zm60-500h600v-160H180v160Zm220 220h160v-160H400v160Zm0 220h160v-160H400v160ZM180-400h160v-160H180v160Zm440 0h160v-160H620v160ZM180-180h160v-160H180v160Zm440 0h160v-160H620v160Z\"/>\n",
              "  </svg>\n",
              "    </button>\n",
              "\n",
              "  <style>\n",
              "    .colab-df-container {\n",
              "      display:flex;\n",
              "      gap: 12px;\n",
              "    }\n",
              "\n",
              "    .colab-df-convert {\n",
              "      background-color: #E8F0FE;\n",
              "      border: none;\n",
              "      border-radius: 50%;\n",
              "      cursor: pointer;\n",
              "      display: none;\n",
              "      fill: #1967D2;\n",
              "      height: 32px;\n",
              "      padding: 0 0 0 0;\n",
              "      width: 32px;\n",
              "    }\n",
              "\n",
              "    .colab-df-convert:hover {\n",
              "      background-color: #E2EBFA;\n",
              "      box-shadow: 0px 1px 2px rgba(60, 64, 67, 0.3), 0px 1px 3px 1px rgba(60, 64, 67, 0.15);\n",
              "      fill: #174EA6;\n",
              "    }\n",
              "\n",
              "    .colab-df-buttons div {\n",
              "      margin-bottom: 4px;\n",
              "    }\n",
              "\n",
              "    [theme=dark] .colab-df-convert {\n",
              "      background-color: #3B4455;\n",
              "      fill: #D2E3FC;\n",
              "    }\n",
              "\n",
              "    [theme=dark] .colab-df-convert:hover {\n",
              "      background-color: #434B5C;\n",
              "      box-shadow: 0px 1px 3px 1px rgba(0, 0, 0, 0.15);\n",
              "      filter: drop-shadow(0px 1px 2px rgba(0, 0, 0, 0.3));\n",
              "      fill: #FFFFFF;\n",
              "    }\n",
              "  </style>\n",
              "\n",
              "    <script>\n",
              "      const buttonEl =\n",
              "        document.querySelector('#df-b69d5cbe-18c4-4184-9442-42d8e6414b20 button.colab-df-convert');\n",
              "      buttonEl.style.display =\n",
              "        google.colab.kernel.accessAllowed ? 'block' : 'none';\n",
              "\n",
              "      async function convertToInteractive(key) {\n",
              "        const element = document.querySelector('#df-b69d5cbe-18c4-4184-9442-42d8e6414b20');\n",
              "        const dataTable =\n",
              "          await google.colab.kernel.invokeFunction('convertToInteractive',\n",
              "                                                    [key], {});\n",
              "        if (!dataTable) return;\n",
              "\n",
              "        const docLinkHtml = 'Like what you see? Visit the ' +\n",
              "          '<a target=\"_blank\" href=https://colab.research.google.com/notebooks/data_table.ipynb>data table notebook</a>'\n",
              "          + ' to learn more about interactive tables.';\n",
              "        element.innerHTML = '';\n",
              "        dataTable['output_type'] = 'display_data';\n",
              "        await google.colab.output.renderOutput(dataTable, element);\n",
              "        const docLink = document.createElement('div');\n",
              "        docLink.innerHTML = docLinkHtml;\n",
              "        element.appendChild(docLink);\n",
              "      }\n",
              "    </script>\n",
              "  </div>\n",
              "\n",
              "\n",
              "<div id=\"df-abd32da0-56ce-42c0-9550-8b60bd0d8012\">\n",
              "  <button class=\"colab-df-quickchart\" onclick=\"quickchart('df-abd32da0-56ce-42c0-9550-8b60bd0d8012')\"\n",
              "            title=\"Suggest charts\"\n",
              "            style=\"display:none;\">\n",
              "\n",
              "<svg xmlns=\"http://www.w3.org/2000/svg\" height=\"24px\"viewBox=\"0 0 24 24\"\n",
              "     width=\"24px\">\n",
              "    <g>\n",
              "        <path d=\"M19 3H5c-1.1 0-2 .9-2 2v14c0 1.1.9 2 2 2h14c1.1 0 2-.9 2-2V5c0-1.1-.9-2-2-2zM9 17H7v-7h2v7zm4 0h-2V7h2v10zm4 0h-2v-4h2v4z\"/>\n",
              "    </g>\n",
              "</svg>\n",
              "  </button>\n",
              "\n",
              "<style>\n",
              "  .colab-df-quickchart {\n",
              "      --bg-color: #E8F0FE;\n",
              "      --fill-color: #1967D2;\n",
              "      --hover-bg-color: #E2EBFA;\n",
              "      --hover-fill-color: #174EA6;\n",
              "      --disabled-fill-color: #AAA;\n",
              "      --disabled-bg-color: #DDD;\n",
              "  }\n",
              "\n",
              "  [theme=dark] .colab-df-quickchart {\n",
              "      --bg-color: #3B4455;\n",
              "      --fill-color: #D2E3FC;\n",
              "      --hover-bg-color: #434B5C;\n",
              "      --hover-fill-color: #FFFFFF;\n",
              "      --disabled-bg-color: #3B4455;\n",
              "      --disabled-fill-color: #666;\n",
              "  }\n",
              "\n",
              "  .colab-df-quickchart {\n",
              "    background-color: var(--bg-color);\n",
              "    border: none;\n",
              "    border-radius: 50%;\n",
              "    cursor: pointer;\n",
              "    display: none;\n",
              "    fill: var(--fill-color);\n",
              "    height: 32px;\n",
              "    padding: 0;\n",
              "    width: 32px;\n",
              "  }\n",
              "\n",
              "  .colab-df-quickchart:hover {\n",
              "    background-color: var(--hover-bg-color);\n",
              "    box-shadow: 0 1px 2px rgba(60, 64, 67, 0.3), 0 1px 3px 1px rgba(60, 64, 67, 0.15);\n",
              "    fill: var(--button-hover-fill-color);\n",
              "  }\n",
              "\n",
              "  .colab-df-quickchart-complete:disabled,\n",
              "  .colab-df-quickchart-complete:disabled:hover {\n",
              "    background-color: var(--disabled-bg-color);\n",
              "    fill: var(--disabled-fill-color);\n",
              "    box-shadow: none;\n",
              "  }\n",
              "\n",
              "  .colab-df-spinner {\n",
              "    border: 2px solid var(--fill-color);\n",
              "    border-color: transparent;\n",
              "    border-bottom-color: var(--fill-color);\n",
              "    animation:\n",
              "      spin 1s steps(1) infinite;\n",
              "  }\n",
              "\n",
              "  @keyframes spin {\n",
              "    0% {\n",
              "      border-color: transparent;\n",
              "      border-bottom-color: var(--fill-color);\n",
              "      border-left-color: var(--fill-color);\n",
              "    }\n",
              "    20% {\n",
              "      border-color: transparent;\n",
              "      border-left-color: var(--fill-color);\n",
              "      border-top-color: var(--fill-color);\n",
              "    }\n",
              "    30% {\n",
              "      border-color: transparent;\n",
              "      border-left-color: var(--fill-color);\n",
              "      border-top-color: var(--fill-color);\n",
              "      border-right-color: var(--fill-color);\n",
              "    }\n",
              "    40% {\n",
              "      border-color: transparent;\n",
              "      border-right-color: var(--fill-color);\n",
              "      border-top-color: var(--fill-color);\n",
              "    }\n",
              "    60% {\n",
              "      border-color: transparent;\n",
              "      border-right-color: var(--fill-color);\n",
              "    }\n",
              "    80% {\n",
              "      border-color: transparent;\n",
              "      border-right-color: var(--fill-color);\n",
              "      border-bottom-color: var(--fill-color);\n",
              "    }\n",
              "    90% {\n",
              "      border-color: transparent;\n",
              "      border-bottom-color: var(--fill-color);\n",
              "    }\n",
              "  }\n",
              "</style>\n",
              "\n",
              "  <script>\n",
              "    async function quickchart(key) {\n",
              "      const quickchartButtonEl =\n",
              "        document.querySelector('#' + key + ' button');\n",
              "      quickchartButtonEl.disabled = true;  // To prevent multiple clicks.\n",
              "      quickchartButtonEl.classList.add('colab-df-spinner');\n",
              "      try {\n",
              "        const charts = await google.colab.kernel.invokeFunction(\n",
              "            'suggestCharts', [key], {});\n",
              "      } catch (error) {\n",
              "        console.error('Error during call to suggestCharts:', error);\n",
              "      }\n",
              "      quickchartButtonEl.classList.remove('colab-df-spinner');\n",
              "      quickchartButtonEl.classList.add('colab-df-quickchart-complete');\n",
              "    }\n",
              "    (() => {\n",
              "      let quickchartButtonEl =\n",
              "        document.querySelector('#df-abd32da0-56ce-42c0-9550-8b60bd0d8012 button');\n",
              "      quickchartButtonEl.style.display =\n",
              "        google.colab.kernel.accessAllowed ? 'block' : 'none';\n",
              "    })();\n",
              "  </script>\n",
              "</div>\n",
              "    </div>\n",
              "  </div>\n"
            ],
            "application/vnd.google.colaboratory.intrinsic+json": {
              "type": "dataframe",
              "variable_name": "df",
              "summary": "{\n  \"name\": \"df\",\n  \"rows\": 20141,\n  \"fields\": [\n    {\n      \"column\": \"url\",\n      \"properties\": {\n        \"dtype\": \"category\",\n        \"num_unique_values\": 368,\n        \"samples\": [\n          \"https://www.dns-shop.ru/product/20a744f50ec2ed20/provodnye-nausniki-defender-pulse-420-sinij/\",\n          \"https://www.dns-shop.ru/product/33c1f0ec8a27698c/provodnye-nausniki-aceline-aeh-205-belyj/\",\n          \"https://www.dns-shop.ru/product/fa30a2f4a1222ff4/provodnye-nausniki-defender-basic-617-cernyj/\"\n        ],\n        \"semantic_type\": \"\",\n        \"description\": \"\"\n      }\n    },\n    {\n      \"column\": \"name\",\n      \"properties\": {\n        \"dtype\": \"category\",\n        \"num_unique_values\": 364,\n        \"samples\": [\n          \"\\u041f\\u0440\\u043e\\u0432\\u043e\\u0434\\u043d\\u044b\\u0435 \\u043d\\u0430\\u0443\\u0448\\u043d\\u0438\\u043a\\u0438 Deppa K-Pop \\u0447\\u0435\\u0440\\u043d\\u044b\\u0439\",\n          \"\\u041f\\u0440\\u043e\\u0432\\u043e\\u0434\\u043d\\u044b\\u0435 \\u043d\\u0430\\u0443\\u0448\\u043d\\u0438\\u043a\\u0438 Aceline AEH-205 \\u0431\\u0435\\u043b\\u044b\\u0439\",\n          \"\\u041f\\u0440\\u043e\\u0432\\u043e\\u0434\\u043d\\u044b\\u0435 \\u043d\\u0430\\u0443\\u0448\\u043d\\u0438\\u043a\\u0438 Defender Basic 617 \\u0447\\u0435\\u0440\\u043d\\u044b\\u0439\"\n        ],\n        \"semantic_type\": \"\",\n        \"description\": \"\"\n      }\n    },\n    {\n      \"column\": \"price\",\n      \"properties\": {\n        \"dtype\": \"category\",\n        \"num_unique_values\": 20,\n        \"samples\": [\n          \"99\",\n          \"699\",\n          \"599\"\n        ],\n        \"semantic_type\": \"\",\n        \"description\": \"\"\n      }\n    },\n    {\n      \"column\": \"rating\",\n      \"properties\": {\n        \"dtype\": \"category\",\n        \"num_unique_values\": 5,\n        \"samples\": [\n          \"1\",\n          \"3\",\n          \"2\"\n        ],\n        \"semantic_type\": \"\",\n        \"description\": \"\"\n      }\n    },\n    {\n      \"column\": \"title\",\n      \"properties\": {\n        \"dtype\": \"category\",\n        \"num_unique_values\": 306,\n        \"samples\": [\n          \"['\\u0414\\u043e\\u0441\\u0442\\u043e\\u0438\\u043d\\u0441\\u0442\\u0432\\u0430', '\\u041d\\u0435\\u0434\\u043e\\u0441\\u0442\\u0430\\u0442\\u043a\\u0438', '\\u041a\\u043e\\u043c\\u043c\\u0435\\u043d\\u0442\\u0430\\u0440\\u0438\\u0439', '\\u0414\\u043e\\u043f\\u043e\\u043b\\u043d\\u0435\\u043d\\u0438\\u0435 \\u043e\\u0442 9 \\u043e\\u043a\\u0442\\u044f\\u0431\\u0440\\u044f 2023 \\u0433.']\",\n          \"['\\u0414\\u043e\\u0441\\u0442\\u043e\\u0438\\u043d\\u0441\\u0442\\u0432\\u0430', '\\u041d\\u0435\\u0434\\u043e\\u0441\\u0442\\u0430\\u0442\\u043a\\u0438', '\\u041a\\u043e\\u043c\\u043c\\u0435\\u043d\\u0442\\u0430\\u0440\\u0438\\u0439', '\\u0414\\u043e\\u043f\\u043e\\u043b\\u043d\\u0435\\u043d\\u0438\\u0435 \\u043e\\u0442 23 \\u043c\\u0430\\u044f 2022 \\u0433.']\",\n          \"['\\u0414\\u043e\\u0441\\u0442\\u043e\\u0438\\u043d\\u0441\\u0442\\u0432\\u0430', '\\u041d\\u0435\\u0434\\u043e\\u0441\\u0442\\u0430\\u0442\\u043a\\u0438', '\\u041a\\u043e\\u043c\\u043c\\u0435\\u043d\\u0442\\u0430\\u0440\\u0438\\u0439', '\\u0414\\u043e\\u043f\\u043e\\u043b\\u043d\\u0435\\u043d\\u0438\\u0435 \\u043e\\u0442 29 \\u0430\\u0432\\u0433\\u0443\\u0441\\u0442\\u0430 2023 \\u0433.']\"\n        ],\n        \"semantic_type\": \"\",\n        \"description\": \"\"\n      }\n    },\n    {\n      \"column\": \"desc\",\n      \"properties\": {\n        \"dtype\": \"category\",\n        \"num_unique_values\": 7445,\n        \"samples\": [\n          \"['\\u043d\\u0430\\u043b\\u0438\\u0447\\u0438\\u0435 \\u043c\\u0438\\u043a\\u0440\\u043e\\u0444\\u043e\\u043d\\u0430, \\u043e\\u0442\\u043b\\u0438\\u0447\\u043d\\u044b\\u0439 \\u0437\\u0432\\u0443\\u043a', '\\u043c\\u0438\\u043a\\u0440\\u043e\\u0444\\u043e\\u043d \\u043e\\u0442\\u043a\\u0430\\u0437\\u0430\\u043b\\u0441\\u044f \\u0440\\u0430\\u0431\\u043e\\u0442\\u0430\\u0442\\u044c \\u0441 \\u043f\\u043b\\u0430\\u043d\\u0448\\u0435\\u0442\\u043e\\u043c (\\u0441 \\u0442\\u0435\\u043b\\u0435\\u0444\\u043e\\u043d\\u0430\\u043c\\u0438 \\u0440\\u0430\\u0431\\u043e\\u0442\\u0430\\u0435\\u0442)', '\\u0432\\u0435\\u0440\\u043d\\u0443\\u043b \\u0432 \\u0414\\u041d\\u0421 \\u0442.\\u043a. \\u0432\\u0430\\u0436\\u043d\\u0430 \\u0440\\u0430\\u0431\\u043e\\u0442\\u0430 \\u043c\\u0438\\u043a\\u0440\\u043e\\u0444\\u043e\\u043d\\u0430 \\u0432 \\u0441\\u0432\\u044f\\u0437\\u043a\\u0435 \\u0441 \\u043f\\u043b\\u0430\\u043d\\u0448\\u0435\\u0442\\u043e\\u043c']\\n\",\n          \"['\\u041e\\u0442\\u043b\\u0438\\u0447\\u043d\\u0430\\u044f \\u0446\\u0435\\u043d\\u0430. \\u0412\\u0435\\u043b\\u0438\\u043a\\u043e\\u043b\\u0435\\u043f\\u043d\\u044b\\u0439 \\u043c\\u0438\\u043a\\u0440\\u043e\\u0444\\u043e\\u043d, \\u043a\\u0430\\u043a \\u043f\\u043e \\u0437\\u0432\\u0443\\u0447\\u0430\\u043d\\u0438\\u044e \\u0442\\u0430\\u043a \\u0438 \\u043f\\u043e \\u0440\\u0430\\u0441\\u043f\\u043e\\u043b\\u043e\\u0436\\u0435\\u043d\\u0438\\u044e, \\u043d\\u0430\\u0441\\u0442\\u0440\\u0430\\u0438\\u0432\\u0430\\u0435\\u0442\\u0441\\u044f \\u0434\\u043b\\u044f \\u043b\\u044e\\u0431\\u043e\\u0433\\u043e \\u0441\\u043b\\u0443\\u0447\\u0430\\u044f. \\u0414\\u043e\\u043b\\u0433\\u043e\\u0432\\u0435\\u0447\\u043d\\u044b\\u0435. \\u041d\\u0435 \\u0434\\u0430\\u0432\\u044f\\u0442 \\u0443\\u0448\\u0438, \\u043e\\u0447\\u0435\\u043d\\u044c \\u043b\\u0451\\u0433\\u043a\\u0438\\u0435.', '\\u041d\\u0435 \\u0434\\u043b\\u044f \\u0445\\u043e\\u0440\\u043e\\u0448\\u0435\\u0439 \\u043c\\u0443\\u0437\\u044b\\u043a\\u0438.', '\\u0425\\u043e\\u0440\\u043e\\u0448\\u043e \\u043f\\u043e\\u0434\\u0445\\u043e\\u0434\\u044f\\u0442 \\u0434\\u043b\\u044f \\u0432\\u0441\\u044f\\u043a\\u0438\\u0445 \\u0441\\u0442\\u0440\\u0438\\u043c\\u043e\\u0432, \\u0441\\u043a\\u0430\\u0439\\u043f\\u043e\\u0432, \\u043e\\u043d\\u043b\\u0430\\u0439\\u043d \\u0438\\u0433\\u0440\\u0443\\u0448\\u0435\\u043a, \\u0434\\u043b\\u044f \\u0442\\u0430\\u043d\\u043a\\u043e\\u0432 \\u0442\\u0434\\u0435\\u0430\\u043b\\u044c\\u043d\\u043e \\u0438 \\u0442.\\u0434.\\u0412\\u043e\\u0442 \\u043c\\u043e\\u0439 \\u043e\\u0431\\u0437\\u043e\\u0440 \\u043d\\u0430 \\u044d\\u0442\\u0438 \\u043d\\u0430\\u0443\\u0448\\u043d\\u0438\\u043a\\u0438: https://www.youtube.com/watch?v=XSLWzZoo2mQ']\\n\",\n          \"['\\u0413\\u043b\\u0430\\u0432\\u043d\\u044b\\u0439 \\u043f\\u043b\\u044e\\u0441 \\u0434\\u0430\\u043d\\u043d\\u043e\\u0439 \\u0433\\u0430\\u0440\\u043d\\u0438\\u0442\\u0443\\u0440\\u044b-\\u044d\\u0442\\u043e \\u0446\\u0435\\u043d\\u0430! \\u041b\\u0435\\u0433\\u043a\\u043e \\u043f\\u043e\\u0434\\u043a\\u043b\\u044e\\u0447\\u0438\\u043b\\u0438\\u0441\\u044c \\u0441 \\u0441\\u043c\\u0430\\u0440\\u0442\\u0444\\u043e\\u043d\\u0443, \\u043f\\u043b\\u0430\\u043d\\u0448\\u0435\\u0442\\u0443 \\u0438 \\u0441\\u0442\\u0430\\u0446\\u0438\\u043e\\u043d\\u0430\\u0440\\u043d\\u043e\\u043c\\u0443 \\u0441\\u0438\\u0441\\u0442\\u0435\\u043c\\u043d\\u0438\\u043a\\u0443. \\u0417\\u0432\\u0443\\u043a , \\u0432 \\u0446\\u0435\\u043b\\u043e\\u043c, \\u043d\\u0435\\u043f\\u043b\\u043e\\u0445\\u043e\\u0439, \\u0435\\u0441\\u043b\\u0438 \\u043f\\u0440\\u0430\\u0432\\u0438\\u043b\\u044c\\u043d\\u043e \\u043e\\u0442\\u0441\\u0442\\u0440\\u043e\\u0438\\u0442\\u044c \\u044d\\u043a\\u0432\\u0430\\u043b\\u0430\\u0439\\u0437\\u0435\\u0440. \\u041d\\u0435\\u043f\\u043b\\u043e\\u0445\\u043e\\u0439 \\u0431\\u0430\\u0441. \\u041f\\u043e \\u0430\\u0432\\u0442\\u043e\\u043d\\u043e\\u043c\\u043d\\u043e\\u0441\\u0442\\u0438 \\u043f\\u043e\\u043a\\u0430 \\u0441\\u043a\\u0430\\u0437\\u0430\\u0442\\u044c \\u043d\\u0438\\u0447\\u0435\\u0433\\u043e \\u043d\\u0435 \\u043c\\u043e\\u0433\\u0443-\\u0438\\u0441\\u043f\\u043e\\u043b\\u044c\\u0437\\u043e\\u0432\\u0430\\u043b \\u0441\\u043e\\u0432\\u0441\\u0435\\u043c \\u043c\\u0430\\u043b\\u043e \\u0432\\u0440\\u0435\\u043c\\u0435\\u043d\\u0438.', '\\u041f\\u043e\\u043a\\u0430 \\u043d\\u0435 \\u043e\\u0431\\u043d\\u0430\\u0440\\u0443\\u0436\\u0438\\u043b', '\\u0417\\u0430 \\u0441\\u0432\\u043e\\u0438 \\u0434\\u0435\\u043d\\u044c\\u0433\\u0438-\\u043e\\u0442\\u043b\\u0438\\u0447\\u043d\\u044b\\u0439 \\u0432\\u044b\\u0431\\u043e\\u0440. \\u043e\\u0441\\u043e\\u0431\\u0435\\u043d\\u043d\\u043e \\u0434\\u043b\\u044f \\u0442\\u0435\\u0445, \\u043a\\u043e\\u043c\\u0443 \\u043d\\u0430\\u0443\\u0448\\u043d\\u0438\\u043a\\u0438 \\u043d\\u0443\\u0436\\u043d\\u044b \\u043d\\u0435 \\u0447\\u0430\\u0441\\u0442\\u043e, \\u043a\\u0430\\u043a \\u043c\\u043d\\u0435-\\u0432 \\u043e\\u0441\\u043d\\u043e\\u0432\\u043d\\u043e\\u043c \\u0441\\u043c\\u043e\\u0442\\u0440\\u0435\\u0442\\u044c \\u043a\\u0438\\u043d\\u043e \\u0441 \\u043f\\u043b\\u0430\\u043d\\u0448\\u0435\\u0442\\u0430 \\u0432 \\u0441\\u0430\\u043c\\u043e\\u043b\\u0435\\u0442\\u0435 \\u0432\\u043e \\u0432\\u0440\\u0435\\u043c\\u044f \\u043a\\u043e\\u043c\\u0430\\u043d\\u0434\\u0438\\u0440\\u043e\\u0432\\u043e\\u043a, \\u0438\\u043d\\u043e\\u0433\\u0434\\u0430 \\u0434\\u043e\\u043c\\u0430 \\u043f\\u043e\\u043f\\u043e\\u043b\\u044c\\u0437\\u043e\\u0432\\u0430\\u0442\\u044c\\u0441\\u044f, \\u0447\\u0442\\u043e\\u0431\\u044b \\u043d\\u0435 \\u0442\\u0440\\u0435\\u0432\\u043e\\u0436\\u0438\\u0442\\u044c \\u0434\\u043e\\u043c\\u043e\\u0447\\u0430\\u0434\\u0446\\u0435\\u0432. \\u0422\\u0430\\u043a \\u0447\\u0442\\u043e \\u0440\\u0435\\u043a\\u043e\\u043c\\u0435\\u043d\\u0434\\u0443\\u044e: \\u0434\\u0435\\u0448\\u0435\\u0432\\u043e \\u0438 \\u0441\\u0435\\u0440\\u0434\\u0438\\u0442\\u043e!']\\n\"\n        ],\n        \"semantic_type\": \"\",\n        \"description\": \"\"\n      }\n    }\n  ]\n}"
            }
          },
          "metadata": {},
          "execution_count": 9
        }
      ],
      "source": [
        "df.head()"
      ]
    },
    {
      "cell_type": "code",
      "source": [
        "df['price'] = df['price'].apply(lambda price: int(price) if price!='-' else np.NaN)\n",
        "df['rating'] = df['rating'].apply(int)"
      ],
      "metadata": {
        "id": "iX9NLVXEjP9n"
      },
      "execution_count": null,
      "outputs": []
    },
    {
      "cell_type": "markdown",
      "source": [
        "# Data analys"
      ],
      "metadata": {
        "id": "JRBBiOx24TQ2"
      }
    },
    {
      "cell_type": "code",
      "source": [
        "categories = [200, 500, 1000, 2500, 5000, 10000, 15000, 20000, 25000, 50000, 100000, 250000, 500000]\n",
        "order = [f\"<{i}\" for i in categories]\n",
        "def select_price_category(price, categories=categories):\n",
        "    if price==np.NaN:\n",
        "        return np.NaN\n",
        "    for i in categories:\n",
        "        if price<i:\n",
        "            return f\"<{i}\"\n",
        "df['price_cat'] = df['price'].apply(select_price_category)"
      ],
      "metadata": {
        "id": "UTui0YxonBy6"
      },
      "execution_count": null,
      "outputs": []
    },
    {
      "cell_type": "markdown",
      "source": [
        "# PLOT 1"
      ],
      "metadata": {
        "id": "LZs0Mpz9_A8v"
      }
    },
    {
      "cell_type": "markdown",
      "source": [
        "### Let's find how price category and average rating are correlated"
      ],
      "metadata": {
        "id": "Yr3qtKkC4cz8"
      }
    },
    {
      "cell_type": "code",
      "source": [
        "def sort_price_cat(data):\n",
        "    spec_order = [i for i in order if i in data['price_cat'].unique()]\n",
        "    data['price_cat'] = pd.Categorical(data['price_cat'], spec_order)\n",
        "    data = data.sort_values('price_cat').reset_index()\n",
        "    return data\n",
        "\n",
        "data_for_plot = df[['price_cat', 'rating']]\n",
        "data_for_plot = data_for_plot[data_for_plot['price_cat'].notna()]\n",
        "data_for_plot = data_for_plot.groupby('price_cat').mean().reset_index()\n",
        "sort_price_cat(data_for_plot)\n",
        "\n",
        "\n",
        "x = data_for_plot['price_cat']\n",
        "y = data_for_plot['rating']\n",
        "\n",
        "fig, ax = plt.subplots(figsize=(16,10), facecolor='white', dpi= 80)\n",
        "ax.vlines(x=x.index, ymin=1, ymax=y, color='firebrick', alpha=0.7, linewidth=20)\n",
        "\n",
        "for index, value in enumerate(y):\n",
        "    plt.text(index, value+0.17, round(value, 2), horizontalalignment='center')\n",
        "\n",
        "ax.set_title('Bar Chart: price-rating', fontdict={'size':22})\n",
        "ax.set(ylabel='Rating', ylim=(1, 5))\n",
        "\n",
        "plt.xticks(x.index, x, rotation=25, horizontalalignment='center', fontsize=12)\n",
        "p = patches.Rectangle((.124, -0.005), width=0.776, height=.13, alpha=.1, facecolor='green', transform=fig.transFigure)\n",
        "fig.add_artist(p)\n",
        "plt.show()"
      ],
      "metadata": {
        "colab": {
          "base_uri": "https://localhost:8080/",
          "height": 766
        },
        "id": "3PRnpz0_el1I",
        "outputId": "8f2547c6-922c-4d3b-f29b-3090d46168b3"
      },
      "execution_count": null,
      "outputs": [
        {
          "output_type": "display_data",
          "data": {
            "text/plain": [
              "<Figure size 1280x800 with 1 Axes>"
            ],
            "image/png": "[encoded data removed]"
          },
          "metadata": {}
        }
      ]
    },
    {
      "cell_type": "markdown",
      "source": [
        "### The average rating goes up as the price goes up to 2500, but doesn't change much after that"
      ],
      "metadata": {
        "id": "1SwzQKKB45Jc"
      }
    },
    {
      "cell_type": "markdown",
      "source": [
        "# PLOT 2"
      ],
      "metadata": {
        "id": "xLIqX5fr_HwD"
      }
    },
    {
      "cell_type": "markdown",
      "source": [
        "### Suppose a person wants to buy a product according to his budget, let's present the data in the form of a graph to help the buyer find the best product from the price category that suits him"
      ],
      "metadata": {
        "id": "SXZDDR5l47Fo"
      }
    },
    {
      "cell_type": "code",
      "source": [
        "data_for_plot_1 = df[['name', 'rating']].groupby('name').count().reset_index().rename(columns={'rating': 'count_reviews'})\n",
        "data_for_plot_1 = data_for_plot_1[data_for_plot_1['count_reviews']>10]\n",
        "data_for_plot_2 = df[['name', 'price', 'price_cat', 'rating']].groupby(['name', 'price', 'price_cat']).mean().round(2).reset_index()\n",
        "data_for_plot_3 = pd.merge(data_for_plot_1, data_for_plot_2, left_on='name', right_on='name', how='inner')\n",
        "data_for_plot_3 = data_for_plot_3.merge(data_for_plot_3[['price_cat', 'rating']].groupby('price_cat').max().reset_index(), left_on=['price_cat', 'rating'], right_on=['price_cat', 'rating'], how='inner')\n",
        "\n",
        "def plot_best_in_cat(level_name, level_min, level_lim, smile, title_color, data_for_plot=data_for_plot_3):\n",
        "\n",
        "    data_for_plot = data_for_plot[data_for_plot['price']>level_min]\n",
        "\n",
        "    if data_for_plot.index.tolist()==[]:\n",
        "        return \"No values in such category\"\n",
        "\n",
        "    print(\" \"*57 + smile)\n",
        "    data_for_plot = sort_price_cat(data_for_plot)\n",
        "\n",
        "    color1, color2 = 'y', 'g'\n",
        "    bar_width = 0.2\n",
        "    gap = 0.02\n",
        "\n",
        "    x = np.arange(len(data_for_plot['price_cat']))\n",
        "\n",
        "    fig, ax1 = plt.subplots(figsize=(10, 4))\n",
        "    bar1 = ax1.bar(x - bar_width/2, data_for_plot['rating'], bar_width, label='rating', color=color1)\n",
        "    ax1.set_ylabel('rating', color=color1)\n",
        "    ax1.set_title(f'Best in each in segment. Price category: {level_name}', color=title_color)\n",
        "    ax1.set_xticks(x)\n",
        "    ax1.tick_params(axis='y', colors=color1)\n",
        "    ax1.set_xticklabels(data_for_plot['price_cat'])\n",
        "    ax1.legend(bbox_to_anchor=(0.95, 0.8))\n",
        "    ax1.set_ylim(1, 9)\n",
        "    for i in range(len(data_for_plot)):\n",
        "        item_name = ''\n",
        "        piece = ''\n",
        "        for word in data_for_plot['name'][i].split():\n",
        "            if len(piece+word+' ')>19:\n",
        "                item_name += piece.center(20) + '\\n'\n",
        "                piece = ''\n",
        "            piece += ' ' + word\n",
        "\n",
        "        plt.text(i-0.16, 7, item_name, fontsize = 7)\n",
        "\n",
        "    ax2 = ax1.twinx()\n",
        "    bar2 = ax2.bar(x + bar_width/2+gap, data_for_plot['price'], bar_width, label='price', color=color2)\n",
        "    ax2.set_ylabel('price', color=color2)\n",
        "    ax2.legend(bbox_to_anchor=(0.95, 0.9))\n",
        "    ax2.set_ylim(level_min, level_lim)\n",
        "    ax2.set_xlim(-0.5, len(data_for_plot)+0.7)\n",
        "    ax2.tick_params(axis='y', colors=color2)\n",
        "    fig.tight_layout()\n",
        "    plt.grid(True)\n",
        "    plt.show()\n",
        "\n",
        "k = 1.2\n",
        "classes = {f'budget': [0, 5000*k, \"👶\", '#42AAFF'], 'medium':[5001, 15000*k, \"🐐\", '#FFFF00'], 'premium':[15001, 50000*k, \"😎\", 'g'], 'extra premium' : [50000, 10**10*k, \"🤑\", 'gold']}\n",
        "for level_name, level_range in classes.items():\n",
        "    plot_best_in_cat(level_name, level_range[0], level_range[1], level_range[2], level_range[3])"
      ],
      "metadata": {
        "colab": {
          "base_uri": "https://localhost:8080/",
          "height": 424
        },
        "id": "K1NjYaPk2FT9",
        "outputId": "b79950d9-5770-4afd-ef53-a22f6d75d238"
      },
      "execution_count": null,
      "outputs": [
        {
          "output_type": "stream",
          "name": "stdout",
          "text": [
            "                                                         👶\n"
          ]
        },
        {
          "output_type": "display_data",
          "data": {
            "text/plain": [
              "<Figure size 1000x400 with 2 Axes>"
            ],
            "image/png": "[encoded data removed]"
          },
          "metadata": {}
        }
      ]
    },
    {
      "cell_type": "markdown",
      "source": [
        "# Preprocessing text for sentiment classification"
      ],
      "metadata": {
        "id": "L6r849jf5Z6k"
      }
    },
    {
      "cell_type": "markdown",
      "source": [
        "## Data harmonization"
      ],
      "metadata": {
        "id": "o6CxluWy5tFc"
      }
    },
    {
      "cell_type": "code",
      "execution_count": null,
      "metadata": {
        "collapsed": true,
        "id": "6mR-osmtK0FS"
      },
      "outputs": [],
      "source": [
        "def title_prep(text):\n",
        "    text = re.sub(\"[\\[\\]']\", '', text)\n",
        "    return [piece.replace(\"'\", '') for piece in text.split(', ')]\n",
        "\n",
        "\n",
        "def del_photo(tit):\n",
        "    return [piece for piece in tit if piece!='Фото']\n",
        "\n",
        "\n",
        "def desc_prep(text):\n",
        "    text = re.sub(\"[\\[\\]]\", '', text)\n",
        "    text = re.sub(\"\\n\", '', text)\n",
        "    return [piece.replace(\"'\", '') for piece in text.split(\"', \")]\n",
        "\n",
        "\n",
        "def fix_desc(desc):\n",
        "    new_desc = []\n",
        "    for piece in desc:\n",
        "        piece = piece.split('\",')\n",
        "        for part_of_piece in piece:\n",
        "            new_desc.append(part_of_piece)\n",
        "    return new_desc"
      ]
    },
    {
      "cell_type": "code",
      "execution_count": null,
      "metadata": {
        "id": "FTXWG6FsNRUX"
      },
      "outputs": [],
      "source": [
        "df[\"title\"] = df[\"title\"].apply(title_prep).apply(del_photo)"
      ]
    },
    {
      "cell_type": "code",
      "execution_count": null,
      "metadata": {
        "id": "wXQmr926OPho"
      },
      "outputs": [],
      "source": [
        "df[\"desc\"] = df[\"desc\"].apply(desc_prep).apply(fix_desc)"
      ]
    },
    {
      "cell_type": "markdown",
      "source": [
        "## Getting a whole review"
      ],
      "metadata": {
        "id": "5gu7neEO54Al"
      }
    },
    {
      "cell_type": "code",
      "execution_count": null,
      "metadata": {
        "id": "-LcdQALIXrIT"
      },
      "outputs": [],
      "source": [
        "def make_review(row):\n",
        "    title = row['title']\n",
        "    desc = row['desc']\n",
        "    return ' '.join(f\"{e1} {e2}.\" for e1, e2 in zip(title, desc))"
      ]
    },
    {
      "cell_type": "code",
      "execution_count": null,
      "metadata": {
        "id": "bLBGH9NWXjo7"
      },
      "outputs": [],
      "source": [
        "df['full_review'] = df[['title', 'desc']].apply(make_review, axis=1)"
      ]
    },
    {
      "cell_type": "code",
      "execution_count": null,
      "metadata": {
        "colab": {
          "base_uri": "https://localhost:8080/",
          "height": 178
        },
        "id": "xS7q2e6FaENr",
        "outputId": "a780333c-b77e-48f4-a452-0cf6c53217c8"
      },
      "outputs": [
        {
          "output_type": "execute_result",
          "data": {
            "text/plain": [
              "0                           Достоинства - Наушники работают. Недостатки - Не выяленно. Комментарий К покупке рекомендую.\n",
              "1     Достоинства Цена. Недостатки Качество ниже плинтуса. Комментарий Пропал звук в одном наушнике, не проработав и ...\n",
              "10    Достоинства Яркие. Недостатки Дешёвые и некачественные. Комментарий Сломались через пару дней использования. Со...\n",
              "Name: full_review, dtype: object"
            ],
            "text/html": [
              "<div>\n",
              "<style scoped>\n",
              "    .dataframe tbody tr th:only-of-type {\n",
              "        vertical-align: middle;\n",
              "    }\n",
              "\n",
              "    .dataframe tbody tr th {\n",
              "        vertical-align: top;\n",
              "    }\n",
              "\n",
              "    .dataframe thead th {\n",
              "        text-align: right;\n",
              "    }\n",
              "</style>\n",
              "<table border=\"1\" class=\"dataframe\">\n",
              "  <thead>\n",
              "    <tr style=\"text-align: right;\">\n",
              "      <th></th>\n",
              "      <th>full_review</th>\n",
              "    </tr>\n",
              "  </thead>\n",
              "  <tbody>\n",
              "    <tr>\n",
              "      <th>0</th>\n",
              "      <td>Достоинства - Наушники работают. Недостатки - Не выяленно. Комментарий К покупке рекомендую.</td>\n",
              "    </tr>\n",
              "    <tr>\n",
              "      <th>1</th>\n",
              "      <td>Достоинства Цена. Недостатки Качество ниже плинтуса. Комментарий Пропал звук в одном наушнике, не проработав и ...</td>\n",
              "    </tr>\n",
              "    <tr>\n",
              "      <th>10</th>\n",
              "      <td>Достоинства Яркие. Недостатки Дешёвые и некачественные. Комментарий Сломались через пару дней использования. Со...</td>\n",
              "    </tr>\n",
              "  </tbody>\n",
              "</table>\n",
              "</div><br><label><b>dtype:</b> object</label>"
            ]
          },
          "metadata": {},
          "execution_count": 16
        }
      ],
      "source": [
        "df['full_review'].head(3)"
      ]
    },
    {
      "cell_type": "markdown",
      "source": [
        "## Clean texts"
      ],
      "metadata": {
        "id": "txKkYgHQ6leH"
      }
    },
    {
      "cell_type": "code",
      "execution_count": null,
      "metadata": {
        "id": "pFwTKqDGaGb4"
      },
      "outputs": [],
      "source": [
        "non_alphanum = re.compile(r'[\\W]')\n",
        "non_ascii = re.compile(r'[^а-я0-1\\s]')\n",
        "def normalize_texts(texts):\n",
        "    normalized_texts = []\n",
        "    for text in texts:\n",
        "        text = text.lower()\n",
        "        if 'www.' in text or 'http:' in text or 'https:' in text or '.com' in text:\n",
        "            text = re.sub(r\"([^ ]+(?<=\\.[a-z]{3}))\", \"<url>\", text)\n",
        "\n",
        "        text = re.sub('\\d','0',text)\n",
        "        text = non_alphanum.sub(r' ', text)\n",
        "        text = non_ascii.sub(r'', text)\n",
        "        text = re.sub(r'\\s+', ' ', text)\n",
        "\n",
        "        normalized_texts.append(text)\n",
        "    return normalized_texts\n",
        "\n",
        "df['clean_reviews'] = normalize_texts(df['full_review'])"
      ]
    },
    {
      "cell_type": "code",
      "execution_count": null,
      "metadata": {
        "colab": {
          "base_uri": "https://localhost:8080/",
          "height": 335
        },
        "id": "DJtclogttNVP",
        "outputId": "eda4cb57-96c5-444d-e985-8b91cd54fd3e"
      },
      "outputs": [
        {
          "output_type": "execute_result",
          "data": {
            "text/plain": [
              "0                                 достоинства наушники работают недостатки не выяленно комментарий к покупке рекомендую \n",
              "1     достоинства цена недостатки качество ниже плинтуса комментарий пропал звук в одном наушнике не проработав и нед...\n",
              "10    достоинства яркие недостатки дешвые и некачественные комментарий сломались через пару дней использования собств...\n",
              "11    достоинства желтые для меня это очень важно есть шумоподавление плотно прилегают к ушам недостатки не нашла ком...\n",
              "15                              достоинства бомбезные недостатки нету комментарий топ чо за 000 рублей имба не жалуемся \n",
              "16                                                              достоинства дешевые недостатки качество звука отвратное \n",
              "17    достоинства цена недостатки недолговечностькачество звука комментарий через неделю после покупки один наушник п...\n",
              "23    достоинства хорошие наушники по дешевой цене недостатки их нет комментарий брал для прослушивания музыки не хри...\n",
              "Name: clean_reviews, dtype: object"
            ],
            "text/html": [
              "<div>\n",
              "<style scoped>\n",
              "    .dataframe tbody tr th:only-of-type {\n",
              "        vertical-align: middle;\n",
              "    }\n",
              "\n",
              "    .dataframe tbody tr th {\n",
              "        vertical-align: top;\n",
              "    }\n",
              "\n",
              "    .dataframe thead th {\n",
              "        text-align: right;\n",
              "    }\n",
              "</style>\n",
              "<table border=\"1\" class=\"dataframe\">\n",
              "  <thead>\n",
              "    <tr style=\"text-align: right;\">\n",
              "      <th></th>\n",
              "      <th>clean_reviews</th>\n",
              "    </tr>\n",
              "  </thead>\n",
              "  <tbody>\n",
              "    <tr>\n",
              "      <th>0</th>\n",
              "      <td>достоинства наушники работают недостатки не выяленно комментарий к покупке рекомендую</td>\n",
              "    </tr>\n",
              "    <tr>\n",
              "      <th>1</th>\n",
              "      <td>достоинства цена недостатки качество ниже плинтуса комментарий пропал звук в одном наушнике не проработав и нед...</td>\n",
              "    </tr>\n",
              "    <tr>\n",
              "      <th>10</th>\n",
              "      <td>достоинства яркие недостатки дешвые и некачественные комментарий сломались через пару дней использования собств...</td>\n",
              "    </tr>\n",
              "    <tr>\n",
              "      <th>11</th>\n",
              "      <td>достоинства желтые для меня это очень важно есть шумоподавление плотно прилегают к ушам недостатки не нашла ком...</td>\n",
              "    </tr>\n",
              "    <tr>\n",
              "      <th>15</th>\n",
              "      <td>достоинства бомбезные недостатки нету комментарий топ чо за 000 рублей имба не жалуемся</td>\n",
              "    </tr>\n",
              "    <tr>\n",
              "      <th>16</th>\n",
              "      <td>достоинства дешевые недостатки качество звука отвратное</td>\n",
              "    </tr>\n",
              "    <tr>\n",
              "      <th>17</th>\n",
              "      <td>достоинства цена недостатки недолговечностькачество звука комментарий через неделю после покупки один наушник п...</td>\n",
              "    </tr>\n",
              "    <tr>\n",
              "      <th>23</th>\n",
              "      <td>достоинства хорошие наушники по дешевой цене недостатки их нет комментарий брал для прослушивания музыки не хри...</td>\n",
              "    </tr>\n",
              "  </tbody>\n",
              "</table>\n",
              "</div><br><label><b>dtype:</b> object</label>"
            ]
          },
          "metadata": {},
          "execution_count": 18
        }
      ],
      "source": [
        "df['clean_reviews'].head(8)"
      ]
    },
    {
      "cell_type": "markdown",
      "source": [
        "# Classification"
      ],
      "metadata": {
        "id": "HtcuorOY_TDp"
      }
    },
    {
      "cell_type": "markdown",
      "metadata": {
        "id": "8Cvo2BdpXDFk"
      },
      "source": [
        "### Let's divide the evaluations in two ways: first into positive and negative (binary classification), second into positive, neutral and negative (multiclass classification)"
      ]
    },
    {
      "cell_type": "markdown",
      "metadata": {
        "id": "Ofd6rhK0XjjD"
      },
      "source": [
        "# First way"
      ]
    },
    {
      "cell_type": "code",
      "execution_count": null,
      "metadata": {
        "id": "c5AQliNyWozV"
      },
      "outputs": [],
      "source": [
        "df['sentiment'] = df['rating'].apply(lambda rating: 1 if rating>=4 else 0)"
      ]
    },
    {
      "cell_type": "markdown",
      "source": [
        "## Class distribution"
      ],
      "metadata": {
        "id": "P3JPwfeU6pMj"
      }
    },
    {
      "cell_type": "code",
      "source": [
        "sns.countplot(x=df['sentiment'], palette={'0': 'r', '1': 'g'})\n",
        "plt.title('Distribution Of Target',fontsize=20)\n",
        "plt.xlabel('Target',fontsize=20)\n",
        "plt.ylabel('Count',fontsize=20)\n",
        "plt.legend([\"Negative\", \"Positive\"])\n",
        "plt.grid(True)\n",
        "plt.xticks(rotation=45)\n",
        "plt.yticks(rotation=45)\n",
        "plt.show()"
      ],
      "metadata": {
        "colab": {
          "base_uri": "https://localhost:8080/",
          "height": 583
        },
        "id": "JUI2k5DDfbMF",
        "outputId": "1d752c11-c645-4291-f51f-d93c0e7bad9c"
      },
      "execution_count": null,
      "outputs": [
        {
          "output_type": "stream",
          "name": "stderr",
          "text": [
            "<ipython-input-20-90ddd8677c5f>:1: FutureWarning: \n",
            "\n",
            "Passing `palette` without assigning `hue` is deprecated and will be removed in v0.14.0. Assign the `x` variable to `hue` and set `legend=False` for the same effect.\n",
            "\n",
            "  sns.countplot(x=df['sentiment'], palette={'0': 'r', '1': 'g'})\n"
          ]
        },
        {
          "output_type": "display_data",
          "data": {
            "text/plain": [
              "<Figure size 640x480 with 1 Axes>"
            ],
            "image/png": "[encoded data removed]"
          },
          "metadata": {}
        }
      ]
    },
    {
      "cell_type": "markdown",
      "source": [
        "## Tokenize & vectorize texts"
      ],
      "metadata": {
        "id": "LuCCMDn-61Rc"
      }
    },
    {
      "cell_type": "code",
      "source": [
        "num_words = 12000"
      ],
      "metadata": {
        "id": "x_m1yRaOixwL"
      },
      "execution_count": null,
      "outputs": []
    },
    {
      "cell_type": "code",
      "execution_count": null,
      "metadata": {
        "id": "Fl4WO4PaAXF7"
      },
      "outputs": [],
      "source": [
        "def preparatory_work(df=df):\n",
        "    texts = df['clean_reviews']\n",
        "    sentiment = df['sentiment']\n",
        "\n",
        "    train_texts, test_texts, train_sent, test_sent = train_test_split(texts, sentiment, test_size=0.33, random_state=42)\n",
        "\n",
        "    tokenizer = Tokenizer(num_words=num_words)\n",
        "    tokenizer.fit_on_texts(train_texts)\n",
        "    train_texts = tokenizer.texts_to_sequences(train_texts)\n",
        "    test_texts = tokenizer.texts_to_sequences(test_texts)\n",
        "\n",
        "    index_of_words = tokenizer.word_index\n",
        "\n",
        "    MAX_LENGTH = max(len(text) for text in train_texts)\n",
        "    train_texts = pad_sequences(train_texts, maxlen=MAX_LENGTH)\n",
        "    test_texts = pad_sequences(test_texts, maxlen=MAX_LENGTH)\n",
        "\n",
        "    return train_texts, test_texts, train_sent, test_sent, MAX_LENGTH, index_of_words, tokenizer"
      ]
    },
    {
      "cell_type": "code",
      "execution_count": null,
      "metadata": {
        "id": "h-Ys69Xn_Kcj"
      },
      "outputs": [],
      "source": [
        "train_texts, test_texts, train_sent, test_sent, MAX_LENGTH, index_of_words, tokenizer = preparatory_work()"
      ]
    },
    {
      "cell_type": "code",
      "source": [
        "train_texts[0]"
      ],
      "metadata": {
        "id": "1DWsArmSitmE",
        "colab": {
          "base_uri": "https://localhost:8080/"
        },
        "outputId": "bc88ac3d-4a36-4e52-cba3-0985d8a37cbc"
      },
      "execution_count": null,
      "outputs": [
        {
          "output_type": "execute_result",
          "data": {
            "text/plain": [
              "array([    0,     0,     0,     0,     0,     0,     0,     0,     0,\n",
              "           0,     0,     0,     0,     0,     0,     0,     0,     0,\n",
              "           0,     0,     0,     0,     0,     0,     0,     0,     0,\n",
              "           0,     0,     0,     0,     0,     0,     0,     0,     0,\n",
              "           0,     0,     0,     0,     0,     0,     0,     0,     0,\n",
              "           0,     0,     0,     0,     0,     0,     0,     0,     0,\n",
              "           0,     0,     0,     0,     0,     0,     0,     0,     0,\n",
              "           0,     0,     0,     0,     0,     0,     0,     0,     0,\n",
              "           0,     0,     0,     0,     0,     0,     0,     0,     0,\n",
              "           0,     0,     0,     0,     0,     0,     0,     0,     0,\n",
              "           0,     0,     0,     0,     0,     0,     0,     0,     0,\n",
              "           0,     0,     0,     0,     0,     0,     0,     0,     0,\n",
              "           0,     0,     0,     0,     0,     0,     0,     0,     0,\n",
              "           0,     0,     0,     0,     0,     0,     0,     0,     0,\n",
              "           0,     0,     0,     0,     0,     0,     0,     0,     0,\n",
              "           0,     0,     0,     0,     0,     0,     0,     0,     0,\n",
              "           0,     0,     0,     0,     0,     0,     0,     0,     0,\n",
              "           0,     0,     0,     0,     0,     0,     0,     0,     0,\n",
              "           0,     0,     0,     0,     0,     0,     0,     0,     0,\n",
              "           0,     0,     0,     0,     0,     0,     0,     0,     0,\n",
              "           0,     0,     0,     0,     0,     0,     0,     0,     0,\n",
              "           0,     0,     0,     0,     0,     0,     0,     0,     0,\n",
              "           0,     0,     0,     0,     0,     0,     0,     0,     0,\n",
              "           0,     0,     0,     0,     0,     0,     0,     0,     0,\n",
              "           0,     0,     0,     0,     0,     0,     0,     0,     0,\n",
              "           0,     0,     0,     0,     0,     0,     0,     0,     0,\n",
              "           0,     0,     0,     0,     0,     0,     0,     0,     0,\n",
              "           0,     0,     0,     0,     0,     0,     0,     0,     0,\n",
              "           0,     0,     0,     0,     0,     0,     0,     0,     0,\n",
              "           0,     0,     0,     0,     0,     0,     0,     0,     0,\n",
              "           0,     0,     0,     0,     0,     0,     0,     0,     0,\n",
              "           0,     0,     0,     0,     0,     0,     0,     0,     0,\n",
              "           0,     0,     0,     0,     0,     0,     0,     0,     0,\n",
              "           0,     0,     0,     0,     0,     0,     0,     0,     0,\n",
              "           0,     0,     0,     0,     0,     0,     0,     0,     0,\n",
              "           0,     0,     0,     0,     0,     0,     0,     0,     0,\n",
              "           0,     0,     0,     0,     0,     0,     0,     0,     0,\n",
              "           0,     0,     0,     0,     0,     0,     0,     0,     0,\n",
              "           0,     0,     0,     0,     0,     0,     0,     0,     0,\n",
              "           0,     0,     0,     0,     0,     0,     0,     0,     0,\n",
              "           0,     0,     0,     0,     0,     0,     0,     0,     0,\n",
              "           0,     0,     0,     0,     0,     0,     0,     0,     0,\n",
              "           0,     0,     0,     0,     0,     0,     0,     0,     0,\n",
              "           0,     0,     0,     0,     0,     0,     0,     0,     0,\n",
              "           0,     0,     0,     0,     0,     0,     0,     0,     0,\n",
              "           0,     0,     0,     0,     0,     0,     0,     0,     0,\n",
              "           0,     0,     0,     0,     0,     0,     0,     0,     0,\n",
              "           0,     0,     0,     0,     0,     0,     0,     0,     0,\n",
              "           0,     0,     0,     0,     0,     0,     0,     0,     0,\n",
              "           0,     0,     0,     0,     0,     0,     0,     0,     0,\n",
              "           0,     0,     0,     0,     0,     0,     0,     0,     0,\n",
              "           0,     0,     0,     0,     0,     0,     0,     0,     0,\n",
              "           0,     0,     0,     0,     0,     0,     0,     0,     0,\n",
              "           0,     0,     0,     0,     0,     0,     0,     0,     0,\n",
              "           0,     0,     0,     0,     0,     0,     0,     0,     0,\n",
              "           0,     0,     0,     0,     0,     0,     0,     0,     0,\n",
              "           0,     0,     0,     0,     0,     0,     0,     0,     0,\n",
              "           0,     0,     0,     0,     0,     0,     0,     0,     0,\n",
              "           0,     0,     0,     0,     0,     0,     0,     0,     0,\n",
              "           0,     0,     0,     0,     0,     0,     0,     0,     0,\n",
              "           0,     0,     0,     0,     0,     0,     0,     0,     0,\n",
              "           0,     0,     0,     0,     0,     0,     0,     0,     0,\n",
              "           0,     0,     0,     0,     0,     0,     0,     0,     0,\n",
              "           0,     0,     0,     0,     0,     0,     0,     0,     0,\n",
              "           0,     0,     0,     0,     0,     0,     0,     0,     0,\n",
              "           0,     0,     0,     0,     0,     0,     0,     0,     0,\n",
              "           0,     0,     0,     0,     0,     0,     0,     0,     0,\n",
              "           0,     0,     0,     0,     0,     0,     0,     0,     0,\n",
              "           0,     0,     0,     0,     0,     0,     0,     0,     0,\n",
              "           0,     0,     0,     0,     0,     0,     0,     0,     0,\n",
              "           0,     0,     0,     0,     0,     0,     0,     0,     0,\n",
              "           5,    51,   555,   956,   552,    23,    20,     4, 10617,\n",
              "           6,   239,   352], dtype=int32)"
            ]
          },
          "metadata": {},
          "execution_count": 24
        }
      ]
    },
    {
      "cell_type": "markdown",
      "metadata": {
        "id": "Y0-YdBp-IxXY"
      },
      "source": [
        "## CNN MODEL"
      ]
    },
    {
      "cell_type": "markdown",
      "source": [
        "### Train model"
      ],
      "metadata": {
        "id": "qykwzKLO7LUD"
      }
    },
    {
      "cell_type": "code",
      "execution_count": null,
      "metadata": {
        "id": "h2wHTml8IwOY"
      },
      "outputs": [],
      "source": [
        "def cnn_model():\n",
        "    sequences = layers.Input(shape=(MAX_LENGTH,))\n",
        "    embedded = layers.Embedding(num_words, 64)(sequences)\n",
        "    x = layers.Conv1D(64, 3, activation='relu')(embedded)\n",
        "    x = tf.keras.layers.BatchNormalization()(x)\n",
        "    x = layers.MaxPool1D(3)(x)\n",
        "    x = layers.Conv1D(64, 5, activation='relu')(x)\n",
        "    x = tf.keras.layers.BatchNormalization()(x)\n",
        "    x = layers.MaxPool1D(5)(x)\n",
        "    x = layers.Conv1D(64, 5, activation='relu')(x)\n",
        "    x = layers.GlobalMaxPool1D()(x)\n",
        "    x = layers.Flatten()(x)\n",
        "    x = layers.Dense(100, activation='relu')(x)\n",
        "    predictions = layers.Dense(1, activation='sigmoid')(x)\n",
        "    model = models.Model(inputs=sequences, outputs=predictions)\n",
        "    model.compile(\n",
        "        optimizer='rmsprop',\n",
        "        loss='binary_crossentropy',\n",
        "        metrics=['binary_accuracy']\n",
        "    )\n",
        "    return model\n",
        "\n",
        "model = cnn_model()"
      ]
    },
    {
      "cell_type": "code",
      "execution_count": null,
      "metadata": {
        "id": "2NMUYtDrP1Wx",
        "colab": {
          "base_uri": "https://localhost:8080/"
        },
        "outputId": "54bd0b3e-8401-4a03-e7f7-c88094895274"
      },
      "outputs": [
        {
          "output_type": "stream",
          "name": "stdout",
          "text": [
            "Epoch 1/3\n",
            "106/106 [==============================] - 8s 68ms/step - loss: 0.4508 - binary_accuracy: 0.7902 - val_loss: 0.6639 - val_binary_accuracy: 0.6653\n",
            "Epoch 2/3\n",
            "106/106 [==============================] - 7s 61ms/step - loss: 0.1857 - binary_accuracy: 0.9220 - val_loss: 0.6133 - val_binary_accuracy: 0.6675\n",
            "Epoch 3/3\n",
            "106/106 [==============================] - 7s 62ms/step - loss: 0.1076 - binary_accuracy: 0.9501 - val_loss: 0.5020 - val_binary_accuracy: 0.8742\n"
          ]
        },
        {
          "output_type": "execute_result",
          "data": {
            "text/plain": [
              "<keras.src.callbacks.History at 0x7e2de2aedc90>"
            ]
          },
          "metadata": {},
          "execution_count": 26
        }
      ],
      "source": [
        "model.fit(\n",
        "    train_texts,\n",
        "    train_sent,\n",
        "    batch_size=128,\n",
        "    epochs=3,\n",
        "    validation_data=(test_texts, test_sent))"
      ]
    },
    {
      "cell_type": "markdown",
      "source": [
        "### Test model"
      ],
      "metadata": {
        "id": "sHMwljch6_ce"
      }
    },
    {
      "cell_type": "code",
      "execution_count": null,
      "metadata": {
        "id": "DGXoKeZKQwmh",
        "colab": {
          "base_uri": "https://localhost:8080/"
        },
        "outputId": "1e841e3c-1c5c-4bab-c62a-650a9d3e72a1"
      },
      "outputs": [
        {
          "output_type": "stream",
          "name": "stdout",
          "text": [
            "208/208 [==============================] - 2s 6ms/step\n",
            "Accuracy score of the CNN Model: 0.874\n",
            "F1 score of the CNN Model: 0.911\n",
            "ROC AUC score of the CNN Model: 0.959\n"
          ]
        }
      ],
      "source": [
        "cnn_preds = model.predict(test_texts)\n",
        "\n",
        "accuracy_cnn = accuracy_score(test_sent, 1 * (cnn_preds > 0.5))\n",
        "f1_cnn = f1_score(test_sent, 1 * (cnn_preds > 0.5))\n",
        "rocauc_cnn = roc_auc_score(test_sent, cnn_preds)\n",
        "\n",
        "print('Accuracy score of the CNN Model: {:0.3}'.format(accuracy_cnn))\n",
        "print('F1 score of the CNN Model: {:0.3}'.format(f1_cnn))\n",
        "print('ROC AUC score of the CNN Model: {:0.3}'.format(rocauc_cnn))"
      ]
    },
    {
      "cell_type": "code",
      "source": [
        "cm = confusion_matrix(test_sent, 1 * (cnn_preds > 0.5))\n",
        "sns.heatmap(cm, annot=True, center = True, fmt='g')"
      ],
      "metadata": {
        "colab": {
          "base_uri": "https://localhost:8080/",
          "height": 447
        },
        "id": "vhuvJgXpiskm",
        "outputId": "b94fb432-e0fb-4ca2-f5b7-312d00c4b37e"
      },
      "execution_count": null,
      "outputs": [
        {
          "output_type": "execute_result",
          "data": {
            "text/plain": [
              "<Axes: >"
            ]
          },
          "metadata": {},
          "execution_count": 28
        },
        {
          "output_type": "display_data",
          "data": {
            "text/plain": [
              "<Figure size 640x480 with 2 Axes>"
            ],
            "image/png": "[encoded data removed]"
          },
          "metadata": {}
        }
      ]
    },
    {
      "cell_type": "markdown",
      "metadata": {
        "id": "spuLBP23XnB2"
      },
      "source": [
        "# Second way"
      ]
    },
    {
      "cell_type": "code",
      "execution_count": null,
      "metadata": {
        "id": "DWsJu6KdR5UD"
      },
      "outputs": [],
      "source": [
        "df['sentiment'] = df['rating'].apply(lambda rating: 2 if rating>=4 else 1 if rating==3 else 0)"
      ]
    },
    {
      "cell_type": "markdown",
      "source": [
        "## Class distribution"
      ],
      "metadata": {
        "id": "DHmTxUc17Yzg"
      }
    },
    {
      "cell_type": "code",
      "source": [
        "sns.countplot(x=df['sentiment'], palette={'0': 'r', '1': 'y', '2':'g'})\n",
        "plt.title('Distribution Of Target',fontsize=20)\n",
        "plt.xlabel('Target',fontsize=20)\n",
        "plt.ylabel('Count',fontsize=20)\n",
        "plt.legend([\"Negative\", \"Neutral\", \"Positive\"])\n",
        "plt.grid(True)\n",
        "plt.xticks(rotation=45)\n",
        "plt.yticks(rotation=45)\n",
        "plt.show()"
      ],
      "metadata": {
        "colab": {
          "base_uri": "https://localhost:8080/",
          "height": 583
        },
        "id": "4zVceRkchBVA",
        "outputId": "994c2be3-3c7b-4bb5-fdad-c125784c087c"
      },
      "execution_count": null,
      "outputs": [
        {
          "output_type": "stream",
          "name": "stderr",
          "text": [
            "<ipython-input-30-e6270976116e>:1: FutureWarning: \n",
            "\n",
            "Passing `palette` without assigning `hue` is deprecated and will be removed in v0.14.0. Assign the `x` variable to `hue` and set `legend=False` for the same effect.\n",
            "\n",
            "  sns.countplot(x=df['sentiment'], palette={'0': 'r', '1': 'y', '2':'g'})\n"
          ]
        },
        {
          "output_type": "display_data",
          "data": {
            "text/plain": [
              "<Figure size 640x480 with 1 Axes>"
            ],
            "image/png": "[encoded data removed]"
          },
          "metadata": {}
        }
      ]
    },
    {
      "cell_type": "markdown",
      "source": [
        "## Tokenize & vectorize texts"
      ],
      "metadata": {
        "id": "nS8ikZc-7Pkg"
      }
    },
    {
      "cell_type": "code",
      "execution_count": null,
      "metadata": {
        "id": "xaoGvsQInN02"
      },
      "outputs": [],
      "source": [
        "train_texts, test_texts, train_sent, test_sent, MAX_LENGTH, index_of_words, tokenizer = preparatory_work()"
      ]
    },
    {
      "cell_type": "markdown",
      "source": [
        "## (NAME OF THE MODEL) model"
      ],
      "metadata": {
        "id": "2epRFQrt9Kc1"
      }
    },
    {
      "cell_type": "code",
      "source": [
        "from keras.initializers import Constant\n",
        "\n",
        "\n",
        "\n",
        "\n",
        "def getEmbeddingLayer(num_words, embedding_size, max_length, tokenizer, word2vec, Trainable = False):\n",
        "  print(\"Размер embedding матрицы:\", num_words, \"x\", embedding_size)\n",
        "  embedding_matrix = np.zeros((num_words, embedding_size))\n",
        "  for word, i in tokenizer.word_index.items():\n",
        "    if i > num_words: #если индекс превышает кол-во слов в словаре, то скипаем\n",
        "      continue\n",
        "    embedding_vector = w2v[word] #получаем вектор соответствущий слову в модели word2vec\n",
        "    if embedding_vector is not None:  #если слово отсутствует в словаре word2vec, то оно в матрице np.zeroes останется равным 0\n",
        "      embedding_matrix[i] = embedding_vector #если слово найдено в словаре токенизатора, то в embedding_matrix проставляем вектор соответствующий слову\n",
        "\n",
        "  embedding_layer = Embedding(input_dim = num_words,\n",
        "                              output_dim = embedding_size,\n",
        "                              embeddings_initializer = Constant(embedding_matrix),\n",
        "                              input_length = max_length,\n",
        "                              trainable = Trainable)\n",
        "  return embedding_layer, embedding_matrix"
      ],
      "metadata": {
        "id": "zPuWAwFfzu02"
      },
      "execution_count": null,
      "outputs": []
    },
    {
      "cell_type": "code",
      "source": [
        "\n",
        "сети.\n",
        "writers_embedding_layer, writers_embedding_matrix = getEmbeddingLayer(num_words, EMBEDDING_DIM, max_len, tokenizer, writers_w2v, Trainable = False)"
      ],
      "metadata": {
        "id": "ZkgFPDSY0lVO"
      },
      "execution_count": null,
      "outputs": []
    },
    {
      "cell_type": "code",
      "source": [
        "\n",
        "\n",
        "writers_embedding_layer, writers_embedding_matrix = getEmbeddingLayer(num_words, EMBEDDING_DIM, max_len, tokenizer, writers_w2v, Trainable = False)"
      ],
      "metadata": {
        "id": "ck9FHZqW0onF"
      },
      "execution_count": null,
      "outputs": []
    },
    {
      "cell_type": "markdown",
      "source": [
        "### Train model"
      ],
      "metadata": {
        "id": "3HKiCRmu7Su_"
      }
    },
    {
      "cell_type": "code",
      "source": [
        "log = LogisticRegression(solver='lbfgs', multi_class='auto', max_iter=500)\n",
        "log.fit(train_texts, train_sent)"
      ],
      "metadata": {
        "id": "0d0xAKuh9nBh",
        "colab": {
          "base_uri": "https://localhost:8080/",
          "height": 214
        },
        "outputId": "6bb87b7e-174c-4e99-87a3-3bc925632407"
      },
      "execution_count": null,
      "outputs": [
        {
          "output_type": "stream",
          "name": "stderr",
          "text": [
            "/usr/local/lib/python3.10/dist-packages/sklearn/linear_model/_logistic.py:460: ConvergenceWarning: lbfgs failed to converge (status=1):\n",
            "STOP: TOTAL NO. of ITERATIONS REACHED LIMIT.\n",
            "\n",
            "Increase the number of iterations (max_iter) or scale the data as shown in:\n",
            "    https://scikit-learn.org/stable/modules/preprocessing.html\n",
            "Please also refer to the documentation for alternative solver options:\n",
            "    https://scikit-learn.org/stable/modules/linear_model.html#logistic-regression\n",
            "  n_iter_i = _check_optimize_result(\n"
          ]
        },
        {
          "output_type": "execute_result",
          "data": {
            "text/plain": [
              "LogisticRegression(max_iter=500)"
            ],
            "text/html": [
              "<style>#sk-container-id-1 {color: black;}#sk-container-id-1 pre{padding: 0;}#sk-container-id-1 div.sk-toggleable {background-color: white;}#sk-container-id-1 label.sk-toggleable__label {cursor: pointer;display: block;width: 100%;margin-bottom: 0;padding: 0.3em;box-sizing: border-box;text-align: center;}#sk-container-id-1 label.sk-toggleable__label-arrow:before {content: \"▸\";float: left;margin-right: 0.25em;color: #696969;}#sk-container-id-1 label.sk-toggleable__label-arrow:hover:before {color: black;}#sk-container-id-1 div.sk-estimator:hover label.sk-toggleable__label-arrow:before {color: black;}#sk-container-id-1 div.sk-toggleable__content {max-height: 0;max-width: 0;overflow: hidden;text-align: left;background-color: #f0f8ff;}#sk-container-id-1 div.sk-toggleable__content pre {margin: 0.2em;color: black;border-radius: 0.25em;background-color: #f0f8ff;}#sk-container-id-1 input.sk-toggleable__control:checked~div.sk-toggleable__content {max-height: 200px;max-width: 100%;overflow: auto;}#sk-container-id-1 input.sk-toggleable__control:checked~label.sk-toggleable__label-arrow:before {content: \"▾\";}#sk-container-id-1 div.sk-estimator input.sk-toggleable__control:checked~label.sk-toggleable__label {background-color: #d4ebff;}#sk-container-id-1 div.sk-label input.sk-toggleable__control:checked~label.sk-toggleable__label {background-color: #d4ebff;}#sk-container-id-1 input.sk-hidden--visually {border: 0;clip: rect(1px 1px 1px 1px);clip: rect(1px, 1px, 1px, 1px);height: 1px;margin: -1px;overflow: hidden;padding: 0;position: absolute;width: 1px;}#sk-container-id-1 div.sk-estimator {font-family: monospace;background-color: #f0f8ff;border: 1px dotted black;border-radius: 0.25em;box-sizing: border-box;margin-bottom: 0.5em;}#sk-container-id-1 div.sk-estimator:hover {background-color: #d4ebff;}#sk-container-id-1 div.sk-parallel-item::after {content: \"\";width: 100%;border-bottom: 1px solid gray;flex-grow: 1;}#sk-container-id-1 div.sk-label:hover label.sk-toggleable__label {background-color: #d4ebff;}#sk-container-id-1 div.sk-serial::before {content: \"\";position: absolute;border-left: 1px solid gray;box-sizing: border-box;top: 0;bottom: 0;left: 50%;z-index: 0;}#sk-container-id-1 div.sk-serial {display: flex;flex-direction: column;align-items: center;background-color: white;padding-right: 0.2em;padding-left: 0.2em;position: relative;}#sk-container-id-1 div.sk-item {position: relative;z-index: 1;}#sk-container-id-1 div.sk-parallel {display: flex;align-items: stretch;justify-content: center;background-color: white;position: relative;}#sk-container-id-1 div.sk-item::before, #sk-container-id-1 div.sk-parallel-item::before {content: \"\";position: absolute;border-left: 1px solid gray;box-sizing: border-box;top: 0;bottom: 0;left: 50%;z-index: -1;}#sk-container-id-1 div.sk-parallel-item {display: flex;flex-direction: column;z-index: 1;position: relative;background-color: white;}#sk-container-id-1 div.sk-parallel-item:first-child::after {align-self: flex-end;width: 50%;}#sk-container-id-1 div.sk-parallel-item:last-child::after {align-self: flex-start;width: 50%;}#sk-container-id-1 div.sk-parallel-item:only-child::after {width: 0;}#sk-container-id-1 div.sk-dashed-wrapped {border: 1px dashed gray;margin: 0 0.4em 0.5em 0.4em;box-sizing: border-box;padding-bottom: 0.4em;background-color: white;}#sk-container-id-1 div.sk-label label {font-family: monospace;font-weight: bold;display: inline-block;line-height: 1.2em;}#sk-container-id-1 div.sk-label-container {text-align: center;}#sk-container-id-1 div.sk-container {/* jupyter's `normalize.less` sets `[hidden] { display: none; }` but bootstrap.min.css set `[hidden] { display: none !important; }` so we also need the `!important` here to be able to override the default hidden behavior on the sphinx rendered scikit-learn.org. See: https://github.com/scikit-learn/scikit-learn/issues/21755 */display: inline-block !important;position: relative;}#sk-container-id-1 div.sk-text-repr-fallback {display: none;}</style><div id=\"sk-container-id-1\" class=\"sk-top-container\"><div class=\"sk-text-repr-fallback\"><pre>LogisticRegression(max_iter=500)</pre><b>In a Jupyter environment, please rerun this cell to show the HTML representation or trust the notebook. <br />On GitHub, the HTML representation is unable to render, please try loading this page with nbviewer.org.</b></div><div class=\"sk-container\" hidden><div class=\"sk-item\"><div class=\"sk-estimator sk-toggleable\"><input class=\"sk-toggleable__control sk-hidden--visually\" id=\"sk-estimator-id-1\" type=\"checkbox\" checked><label for=\"sk-estimator-id-1\" class=\"sk-toggleable__label sk-toggleable__label-arrow\">LogisticRegression</label><div class=\"sk-toggleable__content\"><pre>LogisticRegression(max_iter=500)</pre></div></div></div></div></div>"
            ]
          },
          "metadata": {},
          "execution_count": 32
        }
      ]
    },
    {
      "cell_type": "markdown",
      "source": [
        "### Test model"
      ],
      "metadata": {
        "id": "TBV2qeb39NEF"
      }
    },
    {
      "cell_type": "code",
      "execution_count": null,
      "metadata": {
        "colab": {
          "base_uri": "https://localhost:8080/"
        },
        "id": "hyfVUFBaIHUe",
        "outputId": "16ce3ce1-a9de-4a44-a28f-54f54f41df7a"
      },
      "outputs": [
        {
          "output_type": "stream",
          "name": "stdout",
          "text": [
            "Accuracy: 68.32%\n",
            "\n",
            "F1 Score: 68.32\n",
            "\n",
            "COnfusion Matrix:\n",
            " [[  79   19 1335]\n",
            " [  12  151  658]\n",
            " [  39   43 4311]]\n"
          ]
        }
      ],
      "source": [
        "ylog_pred = log.predict(test_texts)\n",
        "\n",
        "print(\"Accuracy: {:.2f}%\".format(accuracy_score(test_sent, ylog_pred) * 100))\n",
        "print(\"\\nF1 Score: {:.2f}\".format(f1_score(test_sent, ylog_pred, average='micro') * 100))\n",
        "print(\"\\nCOnfusion Matrix:\\n\", confusion_matrix(test_sent, ylog_pred))"
      ]
    },
    {
      "cell_type": "markdown",
      "source": [
        "-----------------------"
      ],
      "metadata": {
        "id": "YwxEXqDF_qLW"
      }
    },
    {
      "cell_type": "markdown",
      "source": [
        "# Conclusion: in the first case we obtained a score of 0.95 and in the second case 0.68."
      ],
      "metadata": {
        "id": "E8Fe6sDUK4Bm"
      }
    },
    {
      "cell_type": "markdown",
      "source": [
        "# Thank you for your attention! ✊"
      ],
      "metadata": {
        "id": "0PU4jFYQO8qu"
      }
    }
  ],
  "metadata": {
    "accelerator": "TPU",
    "colab": {
      "gpuType": "V28",
      "provenance": [],
      "collapsed_sections": [
        "JRBBiOx24TQ2",
        "LZs0Mpz9_A8v",
        "xLIqX5fr_HwD"
      ],
      "authorship_tag": "ABX9TyOqClDITcerPuCDJyUuP1Sr",
      "include_colab_link": true
    },
    "kernelspec": {
      "display_name": "Python 3",
      "name": "python3"
    },
    "language_info": {
      "name": "python"
    }
  },
  "nbformat": 4,
  "nbformat_minor": 0
}